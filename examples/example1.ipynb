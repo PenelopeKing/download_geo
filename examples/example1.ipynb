{
 "cells": [
  {
   "cell_type": "markdown",
   "id": "6191ab04",
   "metadata": {},
   "source": [
    "Simple example to show functionality of geo_downloader as a python script"
   ]
  },
  {
   "cell_type": "code",
   "execution_count": 1,
   "id": "b9c2ba29",
   "metadata": {},
   "outputs": [
    {
     "name": "stderr",
     "output_type": "stream",
     "text": [
      "/usr/local/anaconda3/lib/python3.9/site-packages/pysradb/utils.py:14: TqdmExperimentalWarning: Using `tqdm.autonotebook.tqdm` in notebook mode. Use `tqdm.tqdm` instead to force console mode (e.g. in jupyter console)\n",
      "  from tqdm.autonotebook import tqdm\n"
     ]
    }
   ],
   "source": [
    "import sys\n",
    "sys.path.append('../')\n",
    "from geo_downloader import downloader"
   ]
  },
  {
   "cell_type": "code",
   "execution_count": 2,
   "id": "75b6426f",
   "metadata": {},
   "outputs": [],
   "source": [
    "gse = 'GSE226090' # gse accession number\n",
    "out_dir = '/home/pking/data/' # where you want to save your data"
   ]
  },
  {
   "cell_type": "code",
   "execution_count": 3,
   "id": "40c9e139",
   "metadata": {},
   "outputs": [
    {
     "name": "stdout",
     "output_type": "stream",
     "text": [
      "Downloading GSE226090...\n"
     ]
    },
    {
     "name": "stderr",
     "output_type": "stream",
     "text": [
      "Metadata folder: /home/pking/Desktop/geo_downloader/examples/project_name\n",
      "Trying GSE226090 (not a file) as accession...\n",
      "Trying GSE226090 (not a file) as accession...\n",
      "Skipped 0 accessions. Starting now.\n",
      "\u001b[38;5;200mProcessing accession 1 of 1: 'GSE226090'\u001b[0m\n",
      "Total number of processed SERIES files found is: 20\n",
      "Expanding metadata list...\n",
      "Expanding metadata list...\n"
     ]
    },
    {
     "data": {
      "text/html": [
       "<pre style=\"white-space:pre;overflow-x:auto;line-height:normal;font-family:Menlo,'DejaVu Sans Mono',consolas,'Courier New',monospace\">\n",
       "</pre>\n"
      ],
      "text/plain": [
       "\n"
      ]
     },
     "metadata": {},
     "output_type": "display_data"
    },
    {
     "name": "stderr",
     "output_type": "stream",
     "text": [
      "Finished processing 1 accession(s)\n",
      "Cleaning soft files ...\n",
      "No files found. No data to save. File /home/pking/Desktop/geo_downloader/examples/project_name/GSE226090_samples/GSE226090_samples.csv won't be created\n",
      "Unifying and saving of metadata... \n"
     ]
    },
    {
     "data": {
      "text/html": [
       "<pre style=\"white-space:pre;overflow-x:auto;line-height:normal;font-family:Menlo,'DejaVu Sans Mono',consolas,'Courier New',monospace\">\n",
       "</pre>\n"
      ],
      "text/plain": [
       "\n"
      ]
     },
     "metadata": {},
     "output_type": "display_data"
    },
    {
     "data": {
      "text/html": [
       "<pre style=\"white-space:pre;overflow-x:auto;line-height:normal;font-family:Menlo,'DejaVu Sans Mono',consolas,'Courier New',monospace\">\n",
       "</pre>\n"
      ],
      "text/plain": [
       "\n"
      ]
     },
     "metadata": {},
     "output_type": "display_data"
    },
    {
     "name": "stdout",
     "output_type": "stream",
     "text": [
      "\n",
      "A .csv version of this dataframe has been saved at /home/pking/data/GSE226090_metadata.csv\n"
     ]
    }
   ],
   "source": [
    "# step 1: get metadata\n",
    "metadata = downloader.get_descriptions(gse, out_dir)"
   ]
  },
  {
   "cell_type": "code",
   "execution_count": 4,
   "id": "3f327ace",
   "metadata": {},
   "outputs": [
    {
     "data": {
      "text/html": [
       "<div>\n",
       "<style scoped>\n",
       "    .dataframe tbody tr th:only-of-type {\n",
       "        vertical-align: middle;\n",
       "    }\n",
       "\n",
       "    .dataframe tbody tr th {\n",
       "        vertical-align: top;\n",
       "    }\n",
       "\n",
       "    .dataframe thead th {\n",
       "        text-align: right;\n",
       "    }\n",
       "</style>\n",
       "<table border=\"1\" class=\"dataframe\">\n",
       "  <thead>\n",
       "    <tr style=\"text-align: right;\">\n",
       "      <th></th>\n",
       "      <th>file</th>\n",
       "      <th>title</th>\n",
       "      <th>study_alias</th>\n",
       "      <th>organism_name</th>\n",
       "      <th>GSM</th>\n",
       "      <th>description</th>\n",
       "      <th>total_spots</th>\n",
       "      <th>total_size</th>\n",
       "      <th>run_total_spots</th>\n",
       "      <th>run_total_bases</th>\n",
       "      <th>file_url</th>\n",
       "      <th>series_type</th>\n",
       "    </tr>\n",
       "  </thead>\n",
       "  <tbody>\n",
       "    <tr>\n",
       "      <th>0</th>\n",
       "      <td>SRR23613876</td>\n",
       "      <td>GSM7063497: PU1+ nuclei, H3K27ac Input ChIPseq...</td>\n",
       "      <td>GSE226090</td>\n",
       "      <td>Mus musculus</td>\n",
       "      <td>GSM7063497</td>\n",
       "      <td>GSM7063497: PU1+ nuclei, H3K27ac Input ChIPseq...</td>\n",
       "      <td>10680471</td>\n",
       "      <td>656843723</td>\n",
       "      <td>10680471</td>\n",
       "      <td>2157455142</td>\n",
       "      <td>NaN</td>\n",
       "      <td>NaN</td>\n",
       "    </tr>\n",
       "    <tr>\n",
       "      <th>1</th>\n",
       "      <td>SRR23613877</td>\n",
       "      <td>GSM7063496: PU1+ nuclei, H3K27ac Input ChIPseq...</td>\n",
       "      <td>GSE226090</td>\n",
       "      <td>Mus musculus</td>\n",
       "      <td>GSM7063496</td>\n",
       "      <td>GSM7063496: PU1+ nuclei, H3K27ac Input ChIPseq...</td>\n",
       "      <td>9623829</td>\n",
       "      <td>594129205</td>\n",
       "      <td>9623829</td>\n",
       "      <td>1944013458</td>\n",
       "      <td>NaN</td>\n",
       "      <td>NaN</td>\n",
       "    </tr>\n",
       "    <tr>\n",
       "      <th>2</th>\n",
       "      <td>SRR23613880</td>\n",
       "      <td>GSM7063493: Olig2+ nuclei, H3K27ac Input ChIPs...</td>\n",
       "      <td>GSE226090</td>\n",
       "      <td>Mus musculus</td>\n",
       "      <td>GSM7063493</td>\n",
       "      <td>GSM7063493: Olig2+ nuclei, H3K27ac Input ChIPs...</td>\n",
       "      <td>7819623</td>\n",
       "      <td>481494974</td>\n",
       "      <td>7819623</td>\n",
       "      <td>1579563846</td>\n",
       "      <td>NaN</td>\n",
       "      <td>NaN</td>\n",
       "    </tr>\n",
       "    <tr>\n",
       "      <th>3</th>\n",
       "      <td>SRR23613882</td>\n",
       "      <td>GSM7063492: Olig2+ nuclei, H3K27ac Input ChIPs...</td>\n",
       "      <td>GSE226090</td>\n",
       "      <td>Mus musculus</td>\n",
       "      <td>GSM7063492</td>\n",
       "      <td>GSM7063492: Olig2+ nuclei, H3K27ac Input ChIPs...</td>\n",
       "      <td>10676675</td>\n",
       "      <td>661452028</td>\n",
       "      <td>10676675</td>\n",
       "      <td>2156688350</td>\n",
       "      <td>NaN</td>\n",
       "      <td>NaN</td>\n",
       "    </tr>\n",
       "    <tr>\n",
       "      <th>4</th>\n",
       "      <td>SRR23613885</td>\n",
       "      <td>GSM7063489: NeuN+ nuclei, H3K27ac Input ChIPse...</td>\n",
       "      <td>GSE226090</td>\n",
       "      <td>Mus musculus</td>\n",
       "      <td>GSM7063489</td>\n",
       "      <td>GSM7063489: NeuN+ nuclei, H3K27ac Input ChIPse...</td>\n",
       "      <td>8012260</td>\n",
       "      <td>499551998</td>\n",
       "      <td>8012260</td>\n",
       "      <td>1618476520</td>\n",
       "      <td>NaN</td>\n",
       "      <td>NaN</td>\n",
       "    </tr>\n",
       "    <tr>\n",
       "      <th>...</th>\n",
       "      <td>...</td>\n",
       "      <td>...</td>\n",
       "      <td>...</td>\n",
       "      <td>...</td>\n",
       "      <td>...</td>\n",
       "      <td>...</td>\n",
       "      <td>...</td>\n",
       "      <td>...</td>\n",
       "      <td>...</td>\n",
       "      <td>...</td>\n",
       "      <td>...</td>\n",
       "      <td>...</td>\n",
       "    </tr>\n",
       "    <tr>\n",
       "      <th>76</th>\n",
       "      <td>GSE226090_WT_P300_idr_peak.peak.txt.gz</td>\n",
       "      <td>gse226090_wt_p300_idr_peak_peak_txt_gz</td>\n",
       "      <td>GSE226090</td>\n",
       "      <td>Mus musculus</td>\n",
       "      <td>GSM7063466, GSM7063467, GSM7063468, GSM7063469...</td>\n",
       "      <td>Poly-A RNA-seq, ATAC-seq, and H3K27ac-ChIP-seq...</td>\n",
       "      <td>NaN</td>\n",
       "      <td>NaN</td>\n",
       "      <td>NaN</td>\n",
       "      <td>NaN</td>\n",
       "      <td>ftp://ftp.ncbi.nlm.nih.gov/geo/series/GSE226nn...</td>\n",
       "      <td>Genome binding/occupancy profiling by high thr...</td>\n",
       "    </tr>\n",
       "    <tr>\n",
       "      <th>77</th>\n",
       "      <td>GSE226090_WT_Pu1_H3K27ac_rep1.txt.gz</td>\n",
       "      <td>gse226090_wt_pu1_h3k27ac_rep1_txt_gz</td>\n",
       "      <td>GSE226090</td>\n",
       "      <td>Mus musculus</td>\n",
       "      <td>GSM7063466, GSM7063467, GSM7063468, GSM7063469...</td>\n",
       "      <td>Poly-A RNA-seq, ATAC-seq, and H3K27ac-ChIP-seq...</td>\n",
       "      <td>NaN</td>\n",
       "      <td>NaN</td>\n",
       "      <td>NaN</td>\n",
       "      <td>NaN</td>\n",
       "      <td>ftp://ftp.ncbi.nlm.nih.gov/geo/series/GSE226nn...</td>\n",
       "      <td>Genome binding/occupancy profiling by high thr...</td>\n",
       "    </tr>\n",
       "    <tr>\n",
       "      <th>78</th>\n",
       "      <td>GSE226090_WT_Pu1_H3K27ac_rep2.txt.gz</td>\n",
       "      <td>gse226090_wt_pu1_h3k27ac_rep2_txt_gz</td>\n",
       "      <td>GSE226090</td>\n",
       "      <td>Mus musculus</td>\n",
       "      <td>GSM7063466, GSM7063467, GSM7063468, GSM7063469...</td>\n",
       "      <td>Poly-A RNA-seq, ATAC-seq, and H3K27ac-ChIP-seq...</td>\n",
       "      <td>NaN</td>\n",
       "      <td>NaN</td>\n",
       "      <td>NaN</td>\n",
       "      <td>NaN</td>\n",
       "      <td>ftp://ftp.ncbi.nlm.nih.gov/geo/series/GSE226nn...</td>\n",
       "      <td>Genome binding/occupancy profiling by high thr...</td>\n",
       "    </tr>\n",
       "    <tr>\n",
       "      <th>79</th>\n",
       "      <td>GSE226090_WT_SALL1_idr_peaks.txt.gz</td>\n",
       "      <td>gse226090_wt_sall1_idr_peaks_txt_gz</td>\n",
       "      <td>GSE226090</td>\n",
       "      <td>Mus musculus</td>\n",
       "      <td>GSM7063466, GSM7063467, GSM7063468, GSM7063469...</td>\n",
       "      <td>Poly-A RNA-seq, ATAC-seq, and H3K27ac-ChIP-seq...</td>\n",
       "      <td>NaN</td>\n",
       "      <td>NaN</td>\n",
       "      <td>NaN</td>\n",
       "      <td>NaN</td>\n",
       "      <td>ftp://ftp.ncbi.nlm.nih.gov/geo/series/GSE226nn...</td>\n",
       "      <td>Genome binding/occupancy profiling by high thr...</td>\n",
       "    </tr>\n",
       "    <tr>\n",
       "      <th>80</th>\n",
       "      <td>GSE226090_WT_SMAD4_idr_peaks.txt.gz</td>\n",
       "      <td>gse226090_wt_smad4_idr_peaks_txt_gz</td>\n",
       "      <td>GSE226090</td>\n",
       "      <td>Mus musculus</td>\n",
       "      <td>GSM7063466, GSM7063467, GSM7063468, GSM7063469...</td>\n",
       "      <td>Poly-A RNA-seq, ATAC-seq, and H3K27ac-ChIP-seq...</td>\n",
       "      <td>NaN</td>\n",
       "      <td>NaN</td>\n",
       "      <td>NaN</td>\n",
       "      <td>NaN</td>\n",
       "      <td>ftp://ftp.ncbi.nlm.nih.gov/geo/series/GSE226nn...</td>\n",
       "      <td>Genome binding/occupancy profiling by high thr...</td>\n",
       "    </tr>\n",
       "  </tbody>\n",
       "</table>\n",
       "<p>81 rows × 12 columns</p>\n",
       "</div>"
      ],
      "text/plain": [
       "                                      file  \\\n",
       "0                              SRR23613876   \n",
       "1                              SRR23613877   \n",
       "2                              SRR23613880   \n",
       "3                              SRR23613882   \n",
       "4                              SRR23613885   \n",
       "..                                     ...   \n",
       "76  GSE226090_WT_P300_idr_peak.peak.txt.gz   \n",
       "77    GSE226090_WT_Pu1_H3K27ac_rep1.txt.gz   \n",
       "78    GSE226090_WT_Pu1_H3K27ac_rep2.txt.gz   \n",
       "79     GSE226090_WT_SALL1_idr_peaks.txt.gz   \n",
       "80     GSE226090_WT_SMAD4_idr_peaks.txt.gz   \n",
       "\n",
       "                                                title study_alias  \\\n",
       "0   GSM7063497: PU1+ nuclei, H3K27ac Input ChIPseq...   GSE226090   \n",
       "1   GSM7063496: PU1+ nuclei, H3K27ac Input ChIPseq...   GSE226090   \n",
       "2   GSM7063493: Olig2+ nuclei, H3K27ac Input ChIPs...   GSE226090   \n",
       "3   GSM7063492: Olig2+ nuclei, H3K27ac Input ChIPs...   GSE226090   \n",
       "4   GSM7063489: NeuN+ nuclei, H3K27ac Input ChIPse...   GSE226090   \n",
       "..                                                ...         ...   \n",
       "76             gse226090_wt_p300_idr_peak_peak_txt_gz   GSE226090   \n",
       "77               gse226090_wt_pu1_h3k27ac_rep1_txt_gz   GSE226090   \n",
       "78               gse226090_wt_pu1_h3k27ac_rep2_txt_gz   GSE226090   \n",
       "79                gse226090_wt_sall1_idr_peaks_txt_gz   GSE226090   \n",
       "80                gse226090_wt_smad4_idr_peaks_txt_gz   GSE226090   \n",
       "\n",
       "   organism_name                                                GSM  \\\n",
       "0   Mus musculus                                         GSM7063497   \n",
       "1   Mus musculus                                         GSM7063496   \n",
       "2   Mus musculus                                         GSM7063493   \n",
       "3   Mus musculus                                         GSM7063492   \n",
       "4   Mus musculus                                         GSM7063489   \n",
       "..           ...                                                ...   \n",
       "76  Mus musculus  GSM7063466, GSM7063467, GSM7063468, GSM7063469...   \n",
       "77  Mus musculus  GSM7063466, GSM7063467, GSM7063468, GSM7063469...   \n",
       "78  Mus musculus  GSM7063466, GSM7063467, GSM7063468, GSM7063469...   \n",
       "79  Mus musculus  GSM7063466, GSM7063467, GSM7063468, GSM7063469...   \n",
       "80  Mus musculus  GSM7063466, GSM7063467, GSM7063468, GSM7063469...   \n",
       "\n",
       "                                          description total_spots total_size  \\\n",
       "0   GSM7063497: PU1+ nuclei, H3K27ac Input ChIPseq...    10680471  656843723   \n",
       "1   GSM7063496: PU1+ nuclei, H3K27ac Input ChIPseq...     9623829  594129205   \n",
       "2   GSM7063493: Olig2+ nuclei, H3K27ac Input ChIPs...     7819623  481494974   \n",
       "3   GSM7063492: Olig2+ nuclei, H3K27ac Input ChIPs...    10676675  661452028   \n",
       "4   GSM7063489: NeuN+ nuclei, H3K27ac Input ChIPse...     8012260  499551998   \n",
       "..                                                ...         ...        ...   \n",
       "76  Poly-A RNA-seq, ATAC-seq, and H3K27ac-ChIP-seq...         NaN        NaN   \n",
       "77  Poly-A RNA-seq, ATAC-seq, and H3K27ac-ChIP-seq...         NaN        NaN   \n",
       "78  Poly-A RNA-seq, ATAC-seq, and H3K27ac-ChIP-seq...         NaN        NaN   \n",
       "79  Poly-A RNA-seq, ATAC-seq, and H3K27ac-ChIP-seq...         NaN        NaN   \n",
       "80  Poly-A RNA-seq, ATAC-seq, and H3K27ac-ChIP-seq...         NaN        NaN   \n",
       "\n",
       "   run_total_spots run_total_bases  \\\n",
       "0         10680471      2157455142   \n",
       "1          9623829      1944013458   \n",
       "2          7819623      1579563846   \n",
       "3         10676675      2156688350   \n",
       "4          8012260      1618476520   \n",
       "..             ...             ...   \n",
       "76             NaN             NaN   \n",
       "77             NaN             NaN   \n",
       "78             NaN             NaN   \n",
       "79             NaN             NaN   \n",
       "80             NaN             NaN   \n",
       "\n",
       "                                             file_url  \\\n",
       "0                                                 NaN   \n",
       "1                                                 NaN   \n",
       "2                                                 NaN   \n",
       "3                                                 NaN   \n",
       "4                                                 NaN   \n",
       "..                                                ...   \n",
       "76  ftp://ftp.ncbi.nlm.nih.gov/geo/series/GSE226nn...   \n",
       "77  ftp://ftp.ncbi.nlm.nih.gov/geo/series/GSE226nn...   \n",
       "78  ftp://ftp.ncbi.nlm.nih.gov/geo/series/GSE226nn...   \n",
       "79  ftp://ftp.ncbi.nlm.nih.gov/geo/series/GSE226nn...   \n",
       "80  ftp://ftp.ncbi.nlm.nih.gov/geo/series/GSE226nn...   \n",
       "\n",
       "                                          series_type  \n",
       "0                                                 NaN  \n",
       "1                                                 NaN  \n",
       "2                                                 NaN  \n",
       "3                                                 NaN  \n",
       "4                                                 NaN  \n",
       "..                                                ...  \n",
       "76  Genome binding/occupancy profiling by high thr...  \n",
       "77  Genome binding/occupancy profiling by high thr...  \n",
       "78  Genome binding/occupancy profiling by high thr...  \n",
       "79  Genome binding/occupancy profiling by high thr...  \n",
       "80  Genome binding/occupancy profiling by high thr...  \n",
       "\n",
       "[81 rows x 12 columns]"
      ]
     },
     "execution_count": 4,
     "metadata": {},
     "output_type": "execute_result"
    }
   ],
   "source": [
    "# step 2: preview metadata\n",
    "metadata"
   ]
  },
  {
   "cell_type": "code",
   "execution_count": 5,
   "id": "1c4daebb",
   "metadata": {},
   "outputs": [
    {
     "name": "stdout",
     "output_type": "stream",
     "text": [
      "Downloading supplemental files...\n",
      "\n",
      "Downloading FASTQ files... this make take a bit...\n",
      "\n",
      "\n",
      "Complete\n",
      "\n"
     ]
    }
   ],
   "source": [
    "# step 3: download files\n",
    "downloader.download_files(metadata, out_dir, [79, 80])"
   ]
  },
  {
   "cell_type": "code",
   "execution_count": null,
   "id": "aa5fb483",
   "metadata": {},
   "outputs": [],
   "source": []
  }
 ],
 "metadata": {
  "kernelspec": {
   "display_name": "Python 3 (ipykernel)",
   "language": "python",
   "name": "python3"
  },
  "language_info": {
   "codemirror_mode": {
    "name": "ipython",
    "version": 3
   },
   "file_extension": ".py",
   "mimetype": "text/x-python",
   "name": "python",
   "nbconvert_exporter": "python",
   "pygments_lexer": "ipython3",
   "version": "3.9.7"
  }
 },
 "nbformat": 4,
 "nbformat_minor": 5
}
