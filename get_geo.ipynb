{
 "cells": [
  {
   "cell_type": "code",
   "execution_count": 1,
   "id": "96317d11",
   "metadata": {},
   "outputs": [
    {
     "name": "stderr",
     "output_type": "stream",
     "text": [
      "/usr/local/anaconda3/lib/python3.9/site-packages/pysradb/utils.py:14: TqdmExperimentalWarning: Using `tqdm.autonotebook.tqdm` in notebook mode. Use `tqdm.tqdm` instead to force console mode (e.g. in jupyter console)\n",
      "  from tqdm.autonotebook import tqdm\n"
     ]
    }
   ],
   "source": [
    "# import necessary packages\n",
    "from geofetch import Geofetcher\n",
    "import pysradb.sraweb\n",
    "import pandas as pd\n",
    "import os\n",
    "import urllib.request"
   ]
  },
  {
   "cell_type": "markdown",
   "id": "d2e4e630",
   "metadata": {},
   "source": [
    "### Function 1 : get metadata"
   ]
  },
  {
   "cell_type": "code",
   "execution_count": 21,
   "id": "ab534d1f",
   "metadata": {},
   "outputs": [],
   "source": [
    "def get_series_files(gse):\n",
    "    \"\"\"\n",
    "    uses geofetch to get supplemental data files using a GSE code\n",
    "    input: gse (str)\n",
    "    output: df of supp data file info\n",
    "    \"\"\"\n",
    "    # get supplemental data\n",
    "    geof = Geofetcher(processed=True, data_source='all', just_metadata=True, discard_soft = True)\n",
    "    proj = geof.get_projects(gse)\n",
    "    \n",
    "    # check if supplemental data exists\n",
    "    gse_series = gse + '_series'\n",
    "    if gse_series in proj.keys():\n",
    "        df = proj[gse_series].sample_table\n",
    "        # clean columns, names for consistency when concatenating df's\n",
    "        keep = ['file','sample_name', 'series_sample_organism', 'series_sample_id', 'file_url', 'series_overall_design','series_type']\n",
    "        df= df[keep]\n",
    "        return df.rename(columns={'series_sample_organism': 'organism_name',\n",
    "                                 'sample_name':'title',\n",
    "                                 'series_sample_id':'GSM',\n",
    "                                 'series_overall_design':'description'}).reset_index(drop=True)\n",
    "    else:\n",
    "        return pd.DataFrame()"
   ]
  },
  {
   "cell_type": "code",
   "execution_count": 22,
   "id": "8125227f",
   "metadata": {},
   "outputs": [],
   "source": [
    "def get_descriptions(gse):\n",
    "    \"\"\"\n",
    "    Gets a compliation of metadata for selection\n",
    "    input: gse (str)\n",
    "    output: df & downloads .csv\n",
    "    \"\"\"\n",
    "    ### input validation ###\n",
    "    if (not type(gse) is str) or (gse[:3] != 'GSE'):\n",
    "        return \"input must be a string starting with GSE followed by numbers\"\n",
    "    ### end of validation ###\n",
    "    \n",
    "    # gets relevant information\n",
    "    geo_helper = pysradb.sraweb.SRAweb()\n",
    "    gsm_srx = geo_helper.gse_to_gsm(gse)\n",
    "    srp = geo_helper.gse_to_srp(gse)['study_accession'][0] # gets the srp code\n",
    "    df = geo_helper.sra_metadata(srp) # contains meta info of data for gse\n",
    "    output = pd.merge(gsm_srx, df)\n",
    "    \n",
    "    # column and name cleaning for consistency for easier concat of df's\n",
    "    cols_keep = ['run_accession', 'experiment_title', 'organism_name', 'experiment_alias', 'experiment_desc','total_spots', 'total_size', 'run_total_spots','run_total_bases']\n",
    "    output =  output[cols_keep].rename(columns={'run_accession':'file',\n",
    "                                'experiment_title':'title', \n",
    "                                 'experiment_desc': 'description',\n",
    "                                'experiment_alias' : 'GSM'})\n",
    "    series_df = get_series_files(gse)\n",
    "    if series_df.shape != (0,0):\n",
    "        # concat srr (fastq) and supp series data frames\n",
    "        output = pd.concat([output, series_df], axis=0).reset_index(drop=True)\n",
    "    \n",
    "    # turn output into csv, download it\n",
    "    where_saved = os.getcwd()\n",
    "    filename = gse + '_metadata.csv'\n",
    "    output.to_csv(filename)\n",
    "    print('A .csv version of this dataframe has been saved as {} at {}'.format(filename, where_saved))\n",
    "\n",
    "    return output\n",
    "    "
   ]
  },
  {
   "cell_type": "markdown",
   "id": "2a7aec84",
   "metadata": {},
   "source": [
    "### Function 2: download data from metadata"
   ]
  },
  {
   "cell_type": "markdown",
   "id": "e6d2dda8",
   "metadata": {},
   "source": [
    "To do: optimize fasterq-dump speed"
   ]
  },
  {
   "cell_type": "code",
   "execution_count": 23,
   "id": "9b68cd80",
   "metadata": {},
   "outputs": [],
   "source": [
    "def download_files(gse, idx_list):\n",
    "    \"\"\"\n",
    "    downloads file using the gse from above function, and a list of the indexes wish to download\n",
    "    inputs: idx_list (list of ints that correspond to index) and gse code (str)\n",
    "    outputs: downloads files, no output\n",
    "    \"\"\"\n",
    "    \n",
    "    ### input validation ###\n",
    "    # check data types\n",
    "    if not type(idx_list) is list:\n",
    "        return \"Cannot run: Inputs must be lists of ints\"\n",
    "    if not all(type(x) is int for x in idx_list):\n",
    "        return \"Cannot run: Inputs must be lists of ints\"\n",
    "    # check gse input\n",
    "    if (not type(gse) is str) or (gse[:3] != 'GSE'):\n",
    "        return \"input must be a string starting with GSE followed by numbers\"\n",
    "    csv_fp = os.path.join(os.getcwd(), gse + '_metadata.csv')\n",
    "    if not os.path.exists(csv_fp):\n",
    "        return \"Cannot run: csv path for this gse does not exist\"\n",
    "    df = pd.read_csv(csv_fp, index_col=0)\n",
    "    # check index list input\n",
    "    if not all(x in df.index.to_list() for x in idx_list):\n",
    "        return \"Cannot run: Invalid index\"\n",
    "    ### end of validation ###\n",
    "    \n",
    "    \n",
    "    # split btw fastq and supplemental files\n",
    "    lst = df['file'].iloc[idx_list]\n",
    "    srr_to_download = lst[lst.apply(lambda x: 'SRR' in x)].to_list()\n",
    "    supp_to_download = lst[~lst.apply(lambda x: 'SRR' in x)].index.to_list()\n",
    "    \n",
    "    # makes folder for files to download\n",
    "    download_path = os.path.join(os.getcwd(), 'downloaded_files')\n",
    "    try: \n",
    "        os.mkdir(download_path)\n",
    "    except:\n",
    "        pass\n",
    "    \n",
    "    ### downloading supplemental files ###\n",
    "    print('Downloading supplemental files...')\n",
    "    for supp_idx in supp_to_download:\n",
    "        download_link = 'https://' + df.iloc[supp_idx]['file_url'].split(\"//\")[-1]\n",
    "        target_directory = os.getcwd()\n",
    "        file_name = os.path.join('downloaded_files', download_link.split(\"/\")[-1])\n",
    "        urllib.request.urlretrieve(download_link, file_name)\n",
    "\n",
    "    ### downloading fastq files ###\n",
    "    print('Downloading FASTQ files... this make take a bit...')\n",
    "    for srr in srr_to_download:\n",
    "        # prefetch srr files for quicker download\n",
    "        parent_path = os.getcwd()\n",
    "        download_path = os.path.join(parent_path, 'downloaded_files')\n",
    "        pf_cmd = 'prefetch {} -O {}'.format(srr, download_path)\n",
    "        print(pf_cmd)\n",
    "        os.system(pf_cmd)\n",
    "        # download fastq\n",
    "        path = os.path.join(download_path,os.path.join(srr, srr+'.sra'))\n",
    "        fastq_cmd = 'fasterq-dump --outdir {} {}'.format(os.path.join(download_path, srr), path)\n",
    "            # increase --threads to speed up performance?\n",
    "        print(fastq_cmd)\n",
    "        os.system(fastq_cmd)\n",
    "\n",
    "    print('Complete')"
   ]
  },
  {
   "cell_type": "code",
   "execution_count": 24,
   "id": "967b94a4",
   "metadata": {},
   "outputs": [],
   "source": [
    "from IPython.display import display\n",
    "\n",
    "def print_pretty_table(csv_file):\n",
    "    # Read the CSV file into a pandas DataFrame\n",
    "    df = pd.read_csv(csv_file)\n",
    "    \n",
    "    # Display the DataFrame using IPython display\n",
    "    display(df)\n"
   ]
  },
  {
   "cell_type": "markdown",
   "id": "57dd0899",
   "metadata": {},
   "source": [
    "#### Testing functions using Glass SALL1 data"
   ]
  },
  {
   "cell_type": "code",
   "execution_count": 25,
   "id": "83c596df",
   "metadata": {
    "scrolled": true
   },
   "outputs": [
    {
     "name": "stderr",
     "output_type": "stream",
     "text": [
      "Metadata folder: /home/pking/get_geo/project_name\n",
      "Trying GSE226090 (not a file) as accession...\n",
      "Trying GSE226090 (not a file) as accession...\n",
      "Skipped 0 accessions. Starting now.\n",
      "\u001b[38;5;200mProcessing accession 1 of 1: 'GSE226090'\u001b[0m\n",
      "Total number of processed SERIES files found is: 20\n",
      "Expanding metadata list...\n",
      "Expanding metadata list...\n"
     ]
    },
    {
     "data": {
      "text/html": [
       "<pre style=\"white-space:pre;overflow-x:auto;line-height:normal;font-family:Menlo,'DejaVu Sans Mono',consolas,'Courier New',monospace\">\n",
       "</pre>\n"
      ],
      "text/plain": [
       "\n"
      ]
     },
     "metadata": {},
     "output_type": "display_data"
    },
    {
     "name": "stderr",
     "output_type": "stream",
     "text": [
      "Finished processing 1 accession(s)\n",
      "Cleaning soft files ...\n",
      "No files found. No data to save. File /home/pking/get_geo/project_name/GSE226090_samples/GSE226090_samples.csv won't be created\n",
      "Unifying and saving of metadata... \n"
     ]
    },
    {
     "data": {
      "text/html": [
       "<pre style=\"white-space:pre;overflow-x:auto;line-height:normal;font-family:Menlo,'DejaVu Sans Mono',consolas,'Courier New',monospace\">\n",
       "</pre>\n"
      ],
      "text/plain": [
       "\n"
      ]
     },
     "metadata": {},
     "output_type": "display_data"
    },
    {
     "data": {
      "text/html": [
       "<pre style=\"white-space:pre;overflow-x:auto;line-height:normal;font-family:Menlo,'DejaVu Sans Mono',consolas,'Courier New',monospace\">\n",
       "</pre>\n"
      ],
      "text/plain": [
       "\n"
      ]
     },
     "metadata": {},
     "output_type": "display_data"
    },
    {
     "name": "stdout",
     "output_type": "stream",
     "text": [
      "A .csv version of this dataframe has been saved as GSE226090_metadata.csv at /home/pking/get_geo\n"
     ]
    }
   ],
   "source": [
    "# this example uses SALL1 data\n",
    "sal1_gse = 'GSE226090'\n",
    "output = get_descriptions(sal1_gse);\n"
   ]
  },
  {
   "cell_type": "code",
   "execution_count": 26,
   "id": "0224e20a",
   "metadata": {},
   "outputs": [
    {
     "data": {
      "text/html": [
       "<div>\n",
       "<style scoped>\n",
       "    .dataframe tbody tr th:only-of-type {\n",
       "        vertical-align: middle;\n",
       "    }\n",
       "\n",
       "    .dataframe tbody tr th {\n",
       "        vertical-align: top;\n",
       "    }\n",
       "\n",
       "    .dataframe thead th {\n",
       "        text-align: right;\n",
       "    }\n",
       "</style>\n",
       "<table border=\"1\" class=\"dataframe\">\n",
       "  <thead>\n",
       "    <tr style=\"text-align: right;\">\n",
       "      <th></th>\n",
       "      <th>file</th>\n",
       "      <th>title</th>\n",
       "      <th>organism_name</th>\n",
       "      <th>GSM</th>\n",
       "      <th>description</th>\n",
       "      <th>total_spots</th>\n",
       "      <th>total_size</th>\n",
       "      <th>run_total_spots</th>\n",
       "      <th>run_total_bases</th>\n",
       "      <th>file_url</th>\n",
       "      <th>series_type</th>\n",
       "    </tr>\n",
       "  </thead>\n",
       "  <tbody>\n",
       "    <tr>\n",
       "      <th>0</th>\n",
       "      <td>SRR23613876</td>\n",
       "      <td>GSM7063497: PU1+ nuclei, H3K27ac Input ChIPseq...</td>\n",
       "      <td>Mus musculus</td>\n",
       "      <td>GSM7063497</td>\n",
       "      <td>GSM7063497: PU1+ nuclei, H3K27ac Input ChIPseq...</td>\n",
       "      <td>10680471</td>\n",
       "      <td>656843723</td>\n",
       "      <td>10680471</td>\n",
       "      <td>2157455142</td>\n",
       "      <td>NaN</td>\n",
       "      <td>NaN</td>\n",
       "    </tr>\n",
       "    <tr>\n",
       "      <th>1</th>\n",
       "      <td>SRR23613877</td>\n",
       "      <td>GSM7063496: PU1+ nuclei, H3K27ac Input ChIPseq...</td>\n",
       "      <td>Mus musculus</td>\n",
       "      <td>GSM7063496</td>\n",
       "      <td>GSM7063496: PU1+ nuclei, H3K27ac Input ChIPseq...</td>\n",
       "      <td>9623829</td>\n",
       "      <td>594129205</td>\n",
       "      <td>9623829</td>\n",
       "      <td>1944013458</td>\n",
       "      <td>NaN</td>\n",
       "      <td>NaN</td>\n",
       "    </tr>\n",
       "    <tr>\n",
       "      <th>2</th>\n",
       "      <td>SRR23613880</td>\n",
       "      <td>GSM7063493: Olig2+ nuclei, H3K27ac Input ChIPs...</td>\n",
       "      <td>Mus musculus</td>\n",
       "      <td>GSM7063493</td>\n",
       "      <td>GSM7063493: Olig2+ nuclei, H3K27ac Input ChIPs...</td>\n",
       "      <td>7819623</td>\n",
       "      <td>481494974</td>\n",
       "      <td>7819623</td>\n",
       "      <td>1579563846</td>\n",
       "      <td>NaN</td>\n",
       "      <td>NaN</td>\n",
       "    </tr>\n",
       "    <tr>\n",
       "      <th>3</th>\n",
       "      <td>SRR23613882</td>\n",
       "      <td>GSM7063492: Olig2+ nuclei, H3K27ac Input ChIPs...</td>\n",
       "      <td>Mus musculus</td>\n",
       "      <td>GSM7063492</td>\n",
       "      <td>GSM7063492: Olig2+ nuclei, H3K27ac Input ChIPs...</td>\n",
       "      <td>10676675</td>\n",
       "      <td>661452028</td>\n",
       "      <td>10676675</td>\n",
       "      <td>2156688350</td>\n",
       "      <td>NaN</td>\n",
       "      <td>NaN</td>\n",
       "    </tr>\n",
       "    <tr>\n",
       "      <th>4</th>\n",
       "      <td>SRR23613885</td>\n",
       "      <td>GSM7063489: NeuN+ nuclei, H3K27ac Input ChIPse...</td>\n",
       "      <td>Mus musculus</td>\n",
       "      <td>GSM7063489</td>\n",
       "      <td>GSM7063489: NeuN+ nuclei, H3K27ac Input ChIPse...</td>\n",
       "      <td>8012260</td>\n",
       "      <td>499551998</td>\n",
       "      <td>8012260</td>\n",
       "      <td>1618476520</td>\n",
       "      <td>NaN</td>\n",
       "      <td>NaN</td>\n",
       "    </tr>\n",
       "  </tbody>\n",
       "</table>\n",
       "</div>"
      ],
      "text/plain": [
       "          file                                              title  \\\n",
       "0  SRR23613876  GSM7063497: PU1+ nuclei, H3K27ac Input ChIPseq...   \n",
       "1  SRR23613877  GSM7063496: PU1+ nuclei, H3K27ac Input ChIPseq...   \n",
       "2  SRR23613880  GSM7063493: Olig2+ nuclei, H3K27ac Input ChIPs...   \n",
       "3  SRR23613882  GSM7063492: Olig2+ nuclei, H3K27ac Input ChIPs...   \n",
       "4  SRR23613885  GSM7063489: NeuN+ nuclei, H3K27ac Input ChIPse...   \n",
       "\n",
       "  organism_name         GSM  \\\n",
       "0  Mus musculus  GSM7063497   \n",
       "1  Mus musculus  GSM7063496   \n",
       "2  Mus musculus  GSM7063493   \n",
       "3  Mus musculus  GSM7063492   \n",
       "4  Mus musculus  GSM7063489   \n",
       "\n",
       "                                         description total_spots total_size  \\\n",
       "0  GSM7063497: PU1+ nuclei, H3K27ac Input ChIPseq...    10680471  656843723   \n",
       "1  GSM7063496: PU1+ nuclei, H3K27ac Input ChIPseq...     9623829  594129205   \n",
       "2  GSM7063493: Olig2+ nuclei, H3K27ac Input ChIPs...     7819623  481494974   \n",
       "3  GSM7063492: Olig2+ nuclei, H3K27ac Input ChIPs...    10676675  661452028   \n",
       "4  GSM7063489: NeuN+ nuclei, H3K27ac Input ChIPse...     8012260  499551998   \n",
       "\n",
       "  run_total_spots run_total_bases file_url series_type  \n",
       "0        10680471      2157455142      NaN         NaN  \n",
       "1         9623829      1944013458      NaN         NaN  \n",
       "2         7819623      1579563846      NaN         NaN  \n",
       "3        10676675      2156688350      NaN         NaN  \n",
       "4         8012260      1618476520      NaN         NaN  "
      ]
     },
     "execution_count": 26,
     "metadata": {},
     "output_type": "execute_result"
    }
   ],
   "source": [
    "output.head()"
   ]
  },
  {
   "cell_type": "code",
   "execution_count": 27,
   "id": "aedfad24",
   "metadata": {},
   "outputs": [
    {
     "data": {
      "text/html": [
       "<div>\n",
       "<style scoped>\n",
       "    .dataframe tbody tr th:only-of-type {\n",
       "        vertical-align: middle;\n",
       "    }\n",
       "\n",
       "    .dataframe tbody tr th {\n",
       "        vertical-align: top;\n",
       "    }\n",
       "\n",
       "    .dataframe thead th {\n",
       "        text-align: right;\n",
       "    }\n",
       "</style>\n",
       "<table border=\"1\" class=\"dataframe\">\n",
       "  <thead>\n",
       "    <tr style=\"text-align: right;\">\n",
       "      <th></th>\n",
       "      <th>file</th>\n",
       "      <th>title</th>\n",
       "      <th>organism_name</th>\n",
       "      <th>GSM</th>\n",
       "      <th>description</th>\n",
       "      <th>total_spots</th>\n",
       "      <th>total_size</th>\n",
       "      <th>run_total_spots</th>\n",
       "      <th>run_total_bases</th>\n",
       "      <th>file_url</th>\n",
       "      <th>series_type</th>\n",
       "    </tr>\n",
       "  </thead>\n",
       "  <tbody>\n",
       "    <tr>\n",
       "      <th>76</th>\n",
       "      <td>GSE226090_WT_P300_idr_peak.peak.txt.gz</td>\n",
       "      <td>gse226090_wt_p300_idr_peak_peak_txt_gz</td>\n",
       "      <td>Mus musculus</td>\n",
       "      <td>GSM7063466, GSM7063467, GSM7063468, GSM7063469...</td>\n",
       "      <td>Poly-A RNA-seq, ATAC-seq, and H3K27ac-ChIP-seq...</td>\n",
       "      <td>NaN</td>\n",
       "      <td>NaN</td>\n",
       "      <td>NaN</td>\n",
       "      <td>NaN</td>\n",
       "      <td>ftp://ftp.ncbi.nlm.nih.gov/geo/series/GSE226nn...</td>\n",
       "      <td>Genome binding/occupancy profiling by high thr...</td>\n",
       "    </tr>\n",
       "    <tr>\n",
       "      <th>77</th>\n",
       "      <td>GSE226090_WT_Pu1_H3K27ac_rep1.txt.gz</td>\n",
       "      <td>gse226090_wt_pu1_h3k27ac_rep1_txt_gz</td>\n",
       "      <td>Mus musculus</td>\n",
       "      <td>GSM7063466, GSM7063467, GSM7063468, GSM7063469...</td>\n",
       "      <td>Poly-A RNA-seq, ATAC-seq, and H3K27ac-ChIP-seq...</td>\n",
       "      <td>NaN</td>\n",
       "      <td>NaN</td>\n",
       "      <td>NaN</td>\n",
       "      <td>NaN</td>\n",
       "      <td>ftp://ftp.ncbi.nlm.nih.gov/geo/series/GSE226nn...</td>\n",
       "      <td>Genome binding/occupancy profiling by high thr...</td>\n",
       "    </tr>\n",
       "    <tr>\n",
       "      <th>78</th>\n",
       "      <td>GSE226090_WT_Pu1_H3K27ac_rep2.txt.gz</td>\n",
       "      <td>gse226090_wt_pu1_h3k27ac_rep2_txt_gz</td>\n",
       "      <td>Mus musculus</td>\n",
       "      <td>GSM7063466, GSM7063467, GSM7063468, GSM7063469...</td>\n",
       "      <td>Poly-A RNA-seq, ATAC-seq, and H3K27ac-ChIP-seq...</td>\n",
       "      <td>NaN</td>\n",
       "      <td>NaN</td>\n",
       "      <td>NaN</td>\n",
       "      <td>NaN</td>\n",
       "      <td>ftp://ftp.ncbi.nlm.nih.gov/geo/series/GSE226nn...</td>\n",
       "      <td>Genome binding/occupancy profiling by high thr...</td>\n",
       "    </tr>\n",
       "    <tr>\n",
       "      <th>79</th>\n",
       "      <td>GSE226090_WT_SALL1_idr_peaks.txt.gz</td>\n",
       "      <td>gse226090_wt_sall1_idr_peaks_txt_gz</td>\n",
       "      <td>Mus musculus</td>\n",
       "      <td>GSM7063466, GSM7063467, GSM7063468, GSM7063469...</td>\n",
       "      <td>Poly-A RNA-seq, ATAC-seq, and H3K27ac-ChIP-seq...</td>\n",
       "      <td>NaN</td>\n",
       "      <td>NaN</td>\n",
       "      <td>NaN</td>\n",
       "      <td>NaN</td>\n",
       "      <td>ftp://ftp.ncbi.nlm.nih.gov/geo/series/GSE226nn...</td>\n",
       "      <td>Genome binding/occupancy profiling by high thr...</td>\n",
       "    </tr>\n",
       "    <tr>\n",
       "      <th>80</th>\n",
       "      <td>GSE226090_WT_SMAD4_idr_peaks.txt.gz</td>\n",
       "      <td>gse226090_wt_smad4_idr_peaks_txt_gz</td>\n",
       "      <td>Mus musculus</td>\n",
       "      <td>GSM7063466, GSM7063467, GSM7063468, GSM7063469...</td>\n",
       "      <td>Poly-A RNA-seq, ATAC-seq, and H3K27ac-ChIP-seq...</td>\n",
       "      <td>NaN</td>\n",
       "      <td>NaN</td>\n",
       "      <td>NaN</td>\n",
       "      <td>NaN</td>\n",
       "      <td>ftp://ftp.ncbi.nlm.nih.gov/geo/series/GSE226nn...</td>\n",
       "      <td>Genome binding/occupancy profiling by high thr...</td>\n",
       "    </tr>\n",
       "  </tbody>\n",
       "</table>\n",
       "</div>"
      ],
      "text/plain": [
       "                                      file  \\\n",
       "76  GSE226090_WT_P300_idr_peak.peak.txt.gz   \n",
       "77    GSE226090_WT_Pu1_H3K27ac_rep1.txt.gz   \n",
       "78    GSE226090_WT_Pu1_H3K27ac_rep2.txt.gz   \n",
       "79     GSE226090_WT_SALL1_idr_peaks.txt.gz   \n",
       "80     GSE226090_WT_SMAD4_idr_peaks.txt.gz   \n",
       "\n",
       "                                     title organism_name  \\\n",
       "76  gse226090_wt_p300_idr_peak_peak_txt_gz  Mus musculus   \n",
       "77    gse226090_wt_pu1_h3k27ac_rep1_txt_gz  Mus musculus   \n",
       "78    gse226090_wt_pu1_h3k27ac_rep2_txt_gz  Mus musculus   \n",
       "79     gse226090_wt_sall1_idr_peaks_txt_gz  Mus musculus   \n",
       "80     gse226090_wt_smad4_idr_peaks_txt_gz  Mus musculus   \n",
       "\n",
       "                                                  GSM  \\\n",
       "76  GSM7063466, GSM7063467, GSM7063468, GSM7063469...   \n",
       "77  GSM7063466, GSM7063467, GSM7063468, GSM7063469...   \n",
       "78  GSM7063466, GSM7063467, GSM7063468, GSM7063469...   \n",
       "79  GSM7063466, GSM7063467, GSM7063468, GSM7063469...   \n",
       "80  GSM7063466, GSM7063467, GSM7063468, GSM7063469...   \n",
       "\n",
       "                                          description total_spots total_size  \\\n",
       "76  Poly-A RNA-seq, ATAC-seq, and H3K27ac-ChIP-seq...         NaN        NaN   \n",
       "77  Poly-A RNA-seq, ATAC-seq, and H3K27ac-ChIP-seq...         NaN        NaN   \n",
       "78  Poly-A RNA-seq, ATAC-seq, and H3K27ac-ChIP-seq...         NaN        NaN   \n",
       "79  Poly-A RNA-seq, ATAC-seq, and H3K27ac-ChIP-seq...         NaN        NaN   \n",
       "80  Poly-A RNA-seq, ATAC-seq, and H3K27ac-ChIP-seq...         NaN        NaN   \n",
       "\n",
       "   run_total_spots run_total_bases  \\\n",
       "76             NaN             NaN   \n",
       "77             NaN             NaN   \n",
       "78             NaN             NaN   \n",
       "79             NaN             NaN   \n",
       "80             NaN             NaN   \n",
       "\n",
       "                                             file_url  \\\n",
       "76  ftp://ftp.ncbi.nlm.nih.gov/geo/series/GSE226nn...   \n",
       "77  ftp://ftp.ncbi.nlm.nih.gov/geo/series/GSE226nn...   \n",
       "78  ftp://ftp.ncbi.nlm.nih.gov/geo/series/GSE226nn...   \n",
       "79  ftp://ftp.ncbi.nlm.nih.gov/geo/series/GSE226nn...   \n",
       "80  ftp://ftp.ncbi.nlm.nih.gov/geo/series/GSE226nn...   \n",
       "\n",
       "                                          series_type  \n",
       "76  Genome binding/occupancy profiling by high thr...  \n",
       "77  Genome binding/occupancy profiling by high thr...  \n",
       "78  Genome binding/occupancy profiling by high thr...  \n",
       "79  Genome binding/occupancy profiling by high thr...  \n",
       "80  Genome binding/occupancy profiling by high thr...  "
      ]
     },
     "execution_count": 27,
     "metadata": {},
     "output_type": "execute_result"
    }
   ],
   "source": [
    "output.tail()"
   ]
  },
  {
   "cell_type": "code",
   "execution_count": 63,
   "id": "7991ac0d",
   "metadata": {},
   "outputs": [
    {
     "name": "stdout",
     "output_type": "stream",
     "text": [
      "\u001b[33mWARNING: Ignoring invalid distribution -eyboard (/usr/local/anaconda3/lib/python3.9/site-packages)\u001b[0m\u001b[33m\n",
      "\u001b[0m\u001b[33mWARNING: Ignoring invalid distribution -ooper (/usr/local/anaconda3/lib/python3.9/site-packages)\u001b[0m\u001b[33m\n",
      "\u001b[0m\u001b[33mWARNING: Ignoring invalid distribution -umpy (/usr/local/anaconda3/lib/python3.9/site-packages)\u001b[0m\u001b[33m\n",
      "\u001b[0m\u001b[33mWARNING: Ignoring invalid distribution -yping-extensions (/usr/local/anaconda3/lib/python3.9/site-packages)\u001b[0m\u001b[33m\n",
      "\u001b[0mRequirement already satisfied: traitlets in /usr/local/anaconda3/lib/python3.9/site-packages (5.9.0)\n",
      "\u001b[33mWARNING: Ignoring invalid distribution -eyboard (/usr/local/anaconda3/lib/python3.9/site-packages)\u001b[0m\u001b[33m\n",
      "\u001b[0m\u001b[33mWARNING: Ignoring invalid distribution -ooper (/usr/local/anaconda3/lib/python3.9/site-packages)\u001b[0m\u001b[33m\n",
      "\u001b[0m\u001b[33mWARNING: Ignoring invalid distribution -umpy (/usr/local/anaconda3/lib/python3.9/site-packages)\u001b[0m\u001b[33m\n",
      "\u001b[0m\u001b[33mWARNING: Ignoring invalid distribution -yping-extensions (/usr/local/anaconda3/lib/python3.9/site-packages)\u001b[0m\u001b[33m\n",
      "\u001b[0m"
     ]
    }
   ],
   "source": [
    "!pip install traitlets\n",
    "import pandas as pd\n",
    "import os\n",
    "import sys\n",
    "from IPython.display import display\n",
    "from ipywidgets import interact, Dropdown, Button, Text\n",
    "#from IPython.utils import traitlets\n",
    "import traitlets\n",
    "from traitlets import dlink\n"
   ]
  },
  {
   "cell_type": "code",
   "execution_count": 64,
   "id": "f49d56a4",
   "metadata": {
    "scrolled": false
   },
   "outputs": [],
   "source": [
    "\n",
    "def browse_and_select_rows(csv_file, column_name):\n",
    "    # Read the CSV file into a pandas DataFrame\n",
    "    df = pd.read_csv(csv_file)\n",
    "    df = df.rename(columns={'Unnamed: 0':'index'})\n",
    "\n",
    "    # Create a dropdown widget to select items from the column\n",
    "    options_list = [''] +df[column_name].unique().tolist()\n",
    "    dropdown = Dropdown(options= options_list)\n",
    "    \n",
    "    # Create an input text widget for the save path\n",
    "    save_path_input = Text(value='./', description='Save Path:')\n",
    "    \n",
    "    # Create a button widget for saving and downloading\n",
    "    button = Button(description='Save and Download')\n",
    "    \n",
    "    # Enable tab-completion for the save path input\n",
    "    traitlets.dlink((save_path_input, 'value'), (save_path_input, 'placeholder'))\n",
    "    \n",
    "    # Create an empty DataFrame to store selected rows\n",
    "    selected_rows_df = pd.DataFrame()\n",
    "    \n",
    "    # Function to display filtered rows based on the selected item\n",
    "    def display_filtered_rows(selected_item):\n",
    "        nonlocal selected_rows_df\n",
    "        \n",
    "        # Filter the DataFrame based on the selected item\n",
    "        filtered_df = df[df[column_name] == selected_item]\n",
    "        \n",
    "        # Append the filtered rows to the selected rows DataFrame\n",
    "      \n",
    "        selected_rows_df = pd.concat([selected_rows_df, filtered_df], ignore_index=True)\n",
    "        \n",
    "        \n",
    "        # Display the selected rows\n",
    "        display(filtered_df)\n",
    "        \n",
    "        # Print the growing list of selected rows\n",
    "        print(\"Selected Rows:\")\n",
    "        for i in range(len(selected_rows_df)):\n",
    "            row_entry = str(selected_rows_df.loc[i, column_name])[:60] + '...' if len(str(selected_rows_df.loc[i, column_name])) > 60 else str(selected_rows_df.loc[i, column_name])\n",
    "            print(f\"Row {i+1}: {row_entry}\")\n",
    "        print()  # Print an empty line for separation\n",
    "        \n",
    "    # Function to handle the save and download button click event\n",
    "    def save_and_download(_):\n",
    "        nonlocal selected_rows_df\n",
    "        \n",
    "        # Check if any rows are selected\n",
    "        if selected_rows_df.empty:\n",
    "            print(\"No rows are selected.\")\n",
    "            return\n",
    "        \n",
    "        # Get the save path directory from the input text widget\n",
    "        save_directory = save_path_input.value\n",
    "        \n",
    "        # Get the directory and file part of the original CSV file path\n",
    "        directory = os.path.dirname(csv_file)\n",
    "        file_name = os.path.basename(csv_file)\n",
    "        file_part = os.path.splitext(file_name)[0]\n",
    "        file_extension = os.path.splitext(file_name)[1]\n",
    "        \n",
    "        # Find the next available k for the Partial_k file name in the directory\n",
    "        \n",
    "        # Find the next available k for the Partial_k file name in the directory\n",
    "        k = get_maximum_k(save_directory)\n",
    "        # Create the Partial_k file name\n",
    "        partial_k_filename = f\"Partial_{k+1}_{file_part}.csv\"\n",
    "        \n",
    "\n",
    "        # Combine the save directory, partial_k file name, and save path to form the final save path\n",
    "        save_path = os.path.join(save_directory, partial_k_filename)\n",
    "        \n",
    "        # Write the selected rows to a new CSV file\n",
    "        selected_rows_df.to_csv(save_path, index=False)\n",
    "        \n",
    "        # Print the save path and exit the program\n",
    "        print(f\"Saved CSV file: {save_path}\")\n",
    "        \n",
    "        # Clear the selected rows DataFrame for the next iteration\n",
    "        selected_rows_df = pd.DataFrame()\n",
    "    \n",
    "    # Connect the dropdown widget to the display function\n",
    "    interact(display_filtered_rows, selected_item=dropdown)\n",
    "    \n",
    "    # Connect the button widget to the save and download function\n",
    "    button.on_click(save_and_download)\n",
    "    \n",
    "    # Display the input text widget and button widget\n",
    "    display(save_path_input, button) "
   ]
  },
  {
   "cell_type": "code",
   "execution_count": 65,
   "id": "4c7b27e1",
   "metadata": {},
   "outputs": [],
   "source": [
    "# usage example"
   ]
  },
  {
   "cell_type": "code",
   "execution_count": null,
   "id": "515d7e03",
   "metadata": {},
   "outputs": [],
   "source": []
  },
  {
   "cell_type": "code",
   "execution_count": 16,
   "id": "dde2ce38",
   "metadata": {
    "scrolled": true
   },
   "outputs": [
    {
     "data": {
      "application/vnd.jupyter.widget-view+json": {
       "model_id": "ffd4428e3efb4682b004260beeb9e3b0",
       "version_major": 2,
       "version_minor": 0
      },
      "text/plain": [
       "interactive(children=(Dropdown(description='selected_item', options=('', 'GSM7063497: PU1+ nuclei, H3K27ac Inp…"
      ]
     },
     "metadata": {},
     "output_type": "display_data"
    },
    {
     "data": {
      "application/vnd.jupyter.widget-view+json": {
       "model_id": "a6c667661567421b8b4d51cbb2d80d42",
       "version_major": 2,
       "version_minor": 0
      },
      "text/plain": [
       "Text(value='./', description='Save Path:', placeholder='./')"
      ]
     },
     "metadata": {},
     "output_type": "display_data"
    },
    {
     "data": {
      "application/vnd.jupyter.widget-view+json": {
       "model_id": "06bde3e98d4d4577801e6520014bc0d4",
       "version_major": 2,
       "version_minor": 0
      },
      "text/plain": [
       "Button(description='Save and Download', style=ButtonStyle())"
      ]
     },
     "metadata": {},
     "output_type": "display_data"
    },
    {
     "ename": "FileNotFoundError",
     "evalue": "[Errno 2] No such file or directory: './listsl/'",
     "output_type": "error",
     "traceback": [
      "\u001b[0;31m---------------------------------------------------------------------------\u001b[0m",
      "\u001b[0;31mFileNotFoundError\u001b[0m                         Traceback (most recent call last)",
      "\u001b[0;32m/tmp/ipykernel_579112/666231645.py\u001b[0m in \u001b[0;36msave_and_download\u001b[0;34m(_)\u001b[0m\n\u001b[1;32m     74\u001b[0m \u001b[0;34m\u001b[0m\u001b[0m\n\u001b[1;32m     75\u001b[0m         \u001b[0;31m# Find the next available k for the Partial_k file name in the directory\u001b[0m\u001b[0;34m\u001b[0m\u001b[0;34m\u001b[0m\u001b[0m\n\u001b[0;32m---> 76\u001b[0;31m         \u001b[0mk\u001b[0m \u001b[0;34m=\u001b[0m \u001b[0mget_maximum_k\u001b[0m\u001b[0;34m(\u001b[0m\u001b[0msave_directory\u001b[0m\u001b[0;34m)\u001b[0m\u001b[0;34m\u001b[0m\u001b[0;34m\u001b[0m\u001b[0m\n\u001b[0m\u001b[1;32m     77\u001b[0m         \u001b[0;31m# Create the Partial_k file name\u001b[0m\u001b[0;34m\u001b[0m\u001b[0;34m\u001b[0m\u001b[0m\n\u001b[1;32m     78\u001b[0m         \u001b[0mpartial_k_filename\u001b[0m \u001b[0;34m=\u001b[0m \u001b[0;34mf\"Partial_{k+1}_{file_part}.csv\"\u001b[0m\u001b[0;34m\u001b[0m\u001b[0;34m\u001b[0m\u001b[0m\n",
      "\u001b[0;32m/tmp/ipykernel_579112/83066864.py\u001b[0m in \u001b[0;36mget_maximum_k\u001b[0;34m(directory)\u001b[0m\n\u001b[1;32m     11\u001b[0m \u001b[0;32mdef\u001b[0m \u001b[0mget_maximum_k\u001b[0m\u001b[0;34m(\u001b[0m\u001b[0mdirectory\u001b[0m\u001b[0;34m)\u001b[0m\u001b[0;34m:\u001b[0m\u001b[0;34m\u001b[0m\u001b[0;34m\u001b[0m\u001b[0m\n\u001b[1;32m     12\u001b[0m     \u001b[0;31m# Get all files in the directory\u001b[0m\u001b[0;34m\u001b[0m\u001b[0;34m\u001b[0m\u001b[0m\n\u001b[0;32m---> 13\u001b[0;31m     \u001b[0mfiles\u001b[0m \u001b[0;34m=\u001b[0m \u001b[0mos\u001b[0m\u001b[0;34m.\u001b[0m\u001b[0mlistdir\u001b[0m\u001b[0;34m(\u001b[0m\u001b[0mdirectory\u001b[0m\u001b[0;34m)\u001b[0m\u001b[0;34m\u001b[0m\u001b[0;34m\u001b[0m\u001b[0m\n\u001b[0m\u001b[1;32m     14\u001b[0m \u001b[0;34m\u001b[0m\u001b[0m\n\u001b[1;32m     15\u001b[0m     \u001b[0;31m# Filter for files starting with Partial_\u001b[0m\u001b[0;34m\u001b[0m\u001b[0;34m\u001b[0m\u001b[0m\n",
      "\u001b[0;31mFileNotFoundError\u001b[0m: [Errno 2] No such file or directory: './listsl/'"
     ]
    },
    {
     "name": "stdout",
     "output_type": "stream",
     "text": [
      "Saved CSV file: ./lists/Partial_26_GSE226090_metadata.csv\n"
     ]
    }
   ],
   "source": [
    "browse_and_select_rows('/home/pking/get_geo/GSE226090_metadata.csv', 'title')"
   ]
  },
  {
   "cell_type": "code",
   "execution_count": 67,
   "id": "22630427",
   "metadata": {},
   "outputs": [
    {
     "data": {
      "application/vnd.jupyter.widget-view+json": {
       "model_id": "ca284621d3e6476db8386236bf01c90d",
       "version_major": 2,
       "version_minor": 0
      },
      "text/plain": [
       "interactive(children=(Dropdown(description='selected_item', options=('', 0, 1, 2, 3, 4, 5, 6, 7, 8, 9, 10, 11,…"
      ]
     },
     "metadata": {},
     "output_type": "display_data"
    },
    {
     "data": {
      "application/vnd.jupyter.widget-view+json": {
       "model_id": "8680910eb13343629cfe3b4f87e63953",
       "version_major": 2,
       "version_minor": 0
      },
      "text/plain": [
       "Text(value='./', description='Save Path:', placeholder='./')"
      ]
     },
     "metadata": {},
     "output_type": "display_data"
    },
    {
     "data": {
      "application/vnd.jupyter.widget-view+json": {
       "model_id": "3527674c662e4153b4f51e545a040675",
       "version_major": 2,
       "version_minor": 0
      },
      "text/plain": [
       "Button(description='Save and Download', style=ButtonStyle())"
      ]
     },
     "metadata": {},
     "output_type": "display_data"
    }
   ],
   "source": [
    "browse_and_select_rows('/home/pking/get_geo/GSE226090_metadata.csv', 'index')"
   ]
  },
  {
   "cell_type": "code",
   "execution_count": null,
   "id": "2f3898e6",
   "metadata": {},
   "outputs": [],
   "source": []
  }
 ],
 "metadata": {
  "kernelspec": {
   "display_name": "Python 3 (ipykernel)",
   "language": "python",
   "name": "python3"
  },
  "language_info": {
   "codemirror_mode": {
    "name": "ipython",
    "version": 3
   },
   "file_extension": ".py",
   "mimetype": "text/x-python",
   "name": "python",
   "nbconvert_exporter": "python",
   "pygments_lexer": "ipython3",
   "version": "3.9.7"
  }
 },
 "nbformat": 4,
 "nbformat_minor": 5
}
