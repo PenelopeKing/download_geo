{
 "cells": [
  {
   "attachments": {},
   "cell_type": "markdown",
   "id": "edea1363",
   "metadata": {},
   "source": [
    "Please run all cells in the order as intended"
   ]
  },
  {
   "cell_type": "code",
   "execution_count": null,
   "id": "04bf1b16",
   "metadata": {},
   "outputs": [],
   "source": [
    "%run get_geo.ipynb"
   ]
  },
  {
   "attachments": {},
   "cell_type": "markdown",
   "id": "8ff547d8",
   "metadata": {},
   "source": [
    "# Download Geo"
   ]
  },
  {
   "attachments": {},
   "cell_type": "markdown",
   "id": "582c263a",
   "metadata": {},
   "source": [
    "## Get Metadata\n",
    "\n",
    "Preview data available to download by entering its GSE accession number\n",
    "* must be in the form **GSE#**\n",
    "   * (ex) GSE226090"
   ]
  },
  {
   "cell_type": "code",
   "execution_count": null,
   "id": "fb0bec4f",
   "metadata": {},
   "outputs": [],
   "source": [
    "# store GSE accession number into variable `gse`\n",
    "gse = 'GSE226090'"
   ]
  },
  {
   "cell_type": "code",
   "execution_count": null,
   "id": "46514f9e",
   "metadata": {
    "scrolled": true
   },
   "outputs": [],
   "source": [
    "preview_data_visual(gse)"
   ]
  },
  {
   "attachments": {},
   "cell_type": "markdown",
   "id": "aff03abc",
   "metadata": {},
   "source": [
    "## View Metadata\n",
    "You can view the metadata either in .csv format (you can find it in the folder on the left hand bar on Binder) or through a data frame below. \n",
    "* You can find the path/to/csv/file in the log as an output in the cell above after running it."
   ]
  },
  {
   "cell_type": "code",
   "execution_count": null,
   "id": "c15bbb4b",
   "metadata": {},
   "outputs": [],
   "source": [
    "# fill in the ... with \"path/to/csv/file\"\n",
    "csv_path = '...'"
   ]
  },
  {
   "cell_type": "code",
   "execution_count": null,
   "id": "745aab05",
   "metadata": {},
   "outputs": [],
   "source": [
    "display_csv(csv_path)"
   ]
  },
  {
   "attachments": {},
   "cell_type": "markdown",
   "id": "f0d1cf77",
   "metadata": {},
   "source": [
    "## Download Data\n",
    "Download desired data by a specific column name (or 'index') in the csv/dataframe.\n",
    "* Select the rows you want to download and click save and download to get the files"
   ]
  },
  {
   "cell_type": "code",
   "execution_count": null,
   "id": "6aada0da",
   "metadata": {},
   "outputs": [],
   "source": [
    "# set csv_col_name with the column (or 'index') you want to search with when selecting files/rows to download \n",
    "csv_col_name = 'index'"
   ]
  },
  {
   "cell_type": "code",
   "execution_count": null,
   "id": "3acd9f12",
   "metadata": {},
   "outputs": [],
   "source": [
    "browse_and_select_rows(csv_path, csv_col_name)"
   ]
  },
  {
   "attachments": {},
   "cell_type": "markdown",
   "id": "30795e0e",
   "metadata": {},
   "source": [
    "### Next Steps\n",
    "You can find all the data and metadata downloaded in the files folder on the left-hand bar. Please make sure to download it onto your own computer before leaving the binder."
   ]
  },
  {
   "cell_type": "code",
   "execution_count": null,
   "id": "818e987b",
   "metadata": {},
   "outputs": [],
   "source": []
  }
 ],
 "metadata": {
  "kernelspec": {
   "display_name": "Python 3 (ipykernel)",
   "language": "python",
   "name": "python3"
  },
  "language_info": {
   "codemirror_mode": {
    "name": "ipython",
    "version": 3
   },
   "file_extension": ".py",
   "mimetype": "text/x-python",
   "name": "python",
   "nbconvert_exporter": "python",
   "pygments_lexer": "ipython3",
   "version": "3.9.7"
  }
 },
 "nbformat": 4,
 "nbformat_minor": 5
}
